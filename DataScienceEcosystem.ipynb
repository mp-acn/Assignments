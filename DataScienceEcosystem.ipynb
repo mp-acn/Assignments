{
 "cells": [
  {
   "cell_type": "markdown",
   "id": "ffcd5200-35be-4a0e-ac99-a9c2f37da79d",
   "metadata": {},
   "source": [
    "# Data Science Tools and Ecosystem"
   ]
  },
  {
   "cell_type": "markdown",
   "id": "7fad47d9-b962-44cc-8ee2-20a16c2ca890",
   "metadata": {},
   "source": [
    "In this notebook, Data Science Tools and Ecosystem are summarized.\n",
    "\n"
   ]
  },
  {
   "cell_type": "markdown",
   "id": "9f0bba7c-43c2-4e11-98ca-63fffaff8dff",
   "metadata": {},
   "source": [
    "**Objectives:**\n",
    "- List Popular languages for Data Science\n",
    "- Commonly used libraries for Data Science\n",
    "- Data Science Tools"
   ]
  },
  {
   "cell_type": "markdown",
   "id": "cbe20659-8f86-4399-b371-7233573cb508",
   "metadata": {},
   "source": [
    "Some of the popular languages that Data Scientists use are:\n",
    "1. Python\n",
    "2. R\n",
    "3. SQL"
   ]
  },
  {
   "cell_type": "markdown",
   "id": "32764661-86b1-425b-8b04-d5d60679ba74",
   "metadata": {},
   "source": [
    "Some of the commonly used libraries used by Data Scientists include:\n",
    "1. NumPy\n",
    "2. Pandas\n",
    "3. Matplotlib\n",
    "4. Scikit-learn\n",
    "5. TensorFlow\n",
    "6. PyTorch\n"
   ]
  },
  {
   "cell_type": "markdown",
   "id": "4a329ece-8b74-42bc-bc84-eeef8e7aafb4",
   "metadata": {},
   "source": [
    "| Data Science Tools |\n",
    "|---|\n",
    "| Jupyter Nootbook |\n",
    "| R Studio |\n",
    "| Power BI |"
   ]
  },
  {
   "cell_type": "markdown",
   "id": "cc10d6fd-0427-43fa-9446-3f230c946428",
   "metadata": {},
   "source": [
    "### Below are a few examples of evaluating arithmetic expressions in Python"
   ]
  },
  {
   "cell_type": "code",
   "execution_count": 2,
   "id": "a64919e4-c711-4b1c-b825-0af64dcc8ba4",
   "metadata": {},
   "outputs": [
    {
     "data": {
      "text/plain": [
       "17"
      ]
     },
     "execution_count": 2,
     "metadata": {},
     "output_type": "execute_result"
    }
   ],
   "source": [
    "#This a simple arithmetic expression to mutiply then add integers\n",
    "(3*4)+5"
   ]
  },
  {
   "cell_type": "code",
   "execution_count": 3,
   "id": "1bf4c410-ef9b-435f-a93c-4e5e833d45d0",
   "metadata": {},
   "outputs": [
    {
     "data": {
      "text/plain": [
       "3.3333333333333335"
      ]
     },
     "execution_count": 3,
     "metadata": {},
     "output_type": "execute_result"
    }
   ],
   "source": [
    "#This will convert 200 minutes to hours by diving by 60\n",
    "200/60"
   ]
  },
  {
   "cell_type": "markdown",
   "id": "d0ddab54-f8ce-478a-b01e-d0ad781724eb",
   "metadata": {},
   "source": [
    "## Author\n",
    "Madhavi P "
   ]
  },
  {
   "cell_type": "code",
   "execution_count": null,
   "id": "0b5c7a7a-2b49-44a3-ab86-baf57e1f1fa1",
   "metadata": {},
   "outputs": [],
   "source": []
  }
 ],
 "metadata": {
  "kernelspec": {
   "display_name": "Python [conda env:base] *",
   "language": "python",
   "name": "conda-base-py"
  },
  "language_info": {
   "codemirror_mode": {
    "name": "ipython",
    "version": 3
   },
   "file_extension": ".py",
   "mimetype": "text/x-python",
   "name": "python",
   "nbconvert_exporter": "python",
   "pygments_lexer": "ipython3",
   "version": "3.12.7"
  }
 },
 "nbformat": 4,
 "nbformat_minor": 5
}
